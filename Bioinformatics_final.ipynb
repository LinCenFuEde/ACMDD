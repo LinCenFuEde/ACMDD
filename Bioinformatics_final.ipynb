{
 "cells": [
  {
   "cell_type": "code",
   "execution_count": null,
   "id": "cdf03dd9-f13a-415e-b754-a833d182f8b9",
   "metadata": {},
   "outputs": [],
   "source": [
    "# Bioinformatics\n",
    " this file is meant as an introduction to Bioinformatics. it is part of the ACMDD course and mainly based on the CBR tutorials. \n",
    "Due to viewer system malfunction a large part of the CBR code has been removed and susbstituted using the plip viewer https://plip-tool.biotec.tu-dresden.de/plip-web/plip/result/48acbff9-a2a9-4240-8fe3-2b8260cc3b6d "
   ]
  },
  {
   "cell_type": "markdown",
   "id": "bf7c1531-21d2-43b7-addf-47736b810991",
   "metadata": {},
   "source": [
    "The following has been coppied and floowed directly from the CBR repository\n",
    "### Analyzing your Drug target\n",
    "\n",
    "It is important to get a good feeling for the target you are about to study. This is where literature research comes into play. A good starting point is the original publication that your PDB code refers to. This will also give you further references. In addition, general reviews (Pubmed, Google Scholar) can be very helpful.\n",
    "\n",
    "1.\tDescribe the target (your report should contain at least the following information):\n",
    "-\tPathology (why are we interested in the target?)\n",
    "-\tClinical drugs available (which drugs are on the market)\n",
    " \tAlso use ATC information to further describe the drugs. \n",
    "-\tProtein information (what family of proteins is the target a member off, where is it located in the body?)\n",
    "\n",
    "### Related proteins (off-targets), based on sequence\n",
    "\n",
    "Using Bio-informatics we are going to compare the target to other proteins. We use the primary structure (sequence) of the protein for this. Go to: http://www.uniprot.org/\n",
    "\n",
    "2.\tYou can find the link to Uniprot on the sequence tab on the page of your target on https://www.rcsb.org/\n",
    "\n",
    "3.\tAlternatively, find the name of the target in the ‘Protein Knowledgebase’ (UniprotKB). From the list of hits you should select the correct one.\n",
    "\n",
    "4.\tVerify the ‘Accession’ number with your supervisor. Yellow stars means that it is a correct and reviewed target, use a reviewed one unless you are working on H5N1. \n",
    "\n",
    "In the case of the HIV targets, you have to make a sub selection within the POL polyprotein, do this by selecting the relevant domain in the list of domains below on the page.\n",
    "RT -> select the ‘Reverse Transcriptase domain’, ‘Reverse Transcriptase Ribonuclease H’ domain. \n",
    "Protease -> select the ‘Protease domain’\n",
    "\n",
    "5.\tWhen you have found the correct one, copy the following information:\n",
    "    -\tSequence Length / Status / Protein Existence\n",
    "    -\tMass (kDa)\n",
    "\n",
    "6.\tUse BLAST (Basic Local Alignment Search Tool, under ‘Advanced’) to find identical proteins in other species (related target 1).\n",
    "-\tDatabase ‘UniProtKB’, Threshold at 10, Matrix on auto, Filtering on none, Gapped on yes and Hits on 1000. Copy the following information. \n",
    "    -\tLength \n",
    "    -\tIdentity\n",
    "    -\tSpecies\n",
    "    \n",
    "7.\tClick on the ‘Accession’ number of the same hit, write the ‘Accession’ number down and copy the following information: \n",
    "-\tStatus / Protein Existence\n",
    "-\tMass (kDa)\n",
    "\n",
    "8.\tUse BLAST to find similar targets in the same species (related target 2).\n",
    "-\tDatabase ‘...Human’, Threshold at 1, Matrix on auto, Filtering on none, Gapped on yes and Hits on 1000. Copy the following information of the first hit that is not an isoform of your target.\n",
    "    -\tLength \n",
    "    -\tIdentity\n",
    "9.\tClick on the ‘Accession’ number of the same hit, write the ‘Accession’ number down and copy the following information: \n",
    "    -\tStatus / Protein Existence\n",
    "    -\tMass (kDa)\n",
    "    \n",
    "Questions (1):\n",
    "-\tWhich target is more similar compared to the original target?\n",
    "-\tDid you expect this?\n",
    "\n",
    "Align the 3 proteins on Uniprot using the ‘Accession’ numbers. \n",
    "\n",
    "In the overview, select the following tickboxes: “Similarity, Hydrophobic, Negative, Positive, Aromatic”, scroll down and make a screenshot (for report and presentation). Which targets are ‘more similar’ ?\n",
    "\n",
    "### Related proteins (off-targets), based on structure\n",
    "\n",
    "Since we are in the fortunate position that we have a crystal structure, we are also going to use a 3D similarity search. This is a structural similarity search rather than a sequence similarity search. Now we compare proteins based on their tertiary structure (3D structure)\n",
    "\n",
    "10.\tStart at http://www.rcsb.org/pdb/home/home.do  and find your target using the PDB identifier. \n",
    "11.\tScroll down to ‘macromolecules’.\n",
    "12.\tClick ‘structure’\n",
    "\n",
    "![image info](img/LAB00_FIG00.png)\n",
    "\n",
    "13.\tThe top one should be your protein.\n",
    "•\tWrite down the accession of the next most similar one \n",
    "•\tIn the case of a GPCR target, ignore the T4Lysozyme hits\n",
    "14.\tGo to: https://www.ncbi.nlm.nih.gov/Structure/icn3d/full.html use align, protein complexes, 2 PDB structures\n",
    "\n",
    "![image info](img/LAB00_FIG01.png)\n",
    "\n",
    "15.\tInput both pdb codes and click all matching molecules superposed.\n",
    "\n",
    "16.\tAfter completion do file  realign and select ‘on sequence alignment’ \n",
    "\n",
    "17.\tSelect the ‘A’ chains and click realign. Note the RMSD below (realignment RMSD). \n",
    "\n",
    "![image info](img/LAB00_FIG02.png)\n",
    "\n",
    "18.\tMake a screenshot of the superposition. "
   ]
  },
  {
   "cell_type": "code",
   "execution_count": 3,
   "id": "f6db69b5",
   "metadata": {},
   "outputs": [
    {
     "data": {
      "application/vnd.jupyter.widget-view+json": {
       "model_id": "74502f3c1b774295a8e304341c9e35e9",
       "version_major": 2,
       "version_minor": 0
      },
      "text/plain": []
     },
     "metadata": {},
     "output_type": "display_data"
    },
    {
     "name": "stderr",
     "output_type": "stream",
     "text": [
      "/opt/conda/lib/python3.11/site-packages/Bio/pairwise2.py:278: BiopythonDeprecationWarning: Bio.pairwise2 has been deprecated, and we intend to remove it in a future release of Biopython. As an alternative, please consider using Bio.Align.PairwiseAligner as a replacement, and contact the Biopython developers if you still need the Bio.pairwise2 module.\n",
      "  warnings.warn(\n",
      "/opt/conda/lib/python3.11/site-packages/Bio/Data/SCOPData.py:18: BiopythonDeprecationWarning: The 'Bio.Data.SCOPData' module will be deprecated in a future release of Biopython in favor of 'Bio.Data.PDBData.\n",
      "  warnings.warn(\n"
     ]
    }
   ],
   "source": [
    "#importning packages\n",
    "\n",
    "import nglview \n",
    "import os\n",
    "import shutil\n",
    "from Bio.PDB import PDBList, MMCIFParser, Select, PDBIO\n",
    "import Bio.Align\n",
    "import os\n",
    "from pathlib import Path\n",
    "import rdkit\n",
    "import viewer\n",
    "import bio_align"
   ]
  },
  {
   "cell_type": "code",
   "execution_count": 5,
   "id": "12f4314f-a6ab-40ab-9332-87476133e264",
   "metadata": {},
   "outputs": [
    {
     "name": "stdout",
     "output_type": "stream",
     "text": [
      "\u001b[31mERROR: Could not find a version that satisfies the requirement viewer (from versions: none)\u001b[0m\u001b[31m\n",
      "\u001b[0m\u001b[31mERROR: No matching distribution found for viewer\u001b[0m\u001b[31m\n",
      "\u001b[0m"
     ]
    }
   ],
   "source": [
    "!pip install viewer #in xase viewer does not work or attempt !pip install biopython = 1.83"
   ]
  },
  {
   "cell_type": "code",
   "execution_count": 6,
   "id": "0bb799b6-9025-4243-beef-bf3e796c0402",
   "metadata": {},
   "outputs": [
    {
     "name": "stdout",
     "output_type": "stream",
     "text": [
      "Directory already exists\n"
     ]
    }
   ],
   "source": [
    "#Create new directory\n",
    "import os\n",
    "\n",
    "from pathlib import Path\n",
    "\n",
    "HOMEDIR = str(Path.home())\n",
    "os.chdir(HOMEDIR)\n",
    "# We need to check whether the directory is there\n",
    "try:\n",
    "    os.mkdir(\"Bioinformatics\")\n",
    "except:\n",
    "    print(\"Directory already exists\")\n",
    "os.chdir(\"Bioinformatics\")"
   ]
  },
  {
   "cell_type": "code",
   "execution_count": 7,
   "id": "c7c932f1-5f03-4d03-a9ae-0e701ed6b98d",
   "metadata": {},
   "outputs": [
    {
     "data": {
      "application/vnd.jupyter.widget-view+json": {
       "model_id": "d9c506efcc7d48edb7ba6fc6a1d40faa",
       "version_major": 2,
       "version_minor": 0
      },
      "text/plain": [
       "NGLWidget()"
      ]
     },
     "metadata": {},
     "output_type": "display_data"
    }
   ],
   "source": [
    "TARGET_PDB_ID = \"8HDO\" #viewing the 3D structure of the target protein using its pdb code\n",
    "view = nglview.show_pdbid(TARGET_PDB_ID)\n",
    "view.center()\n",
    "view"
   ]
  },
  {
   "cell_type": "markdown",
   "id": "beb40f4a-9097-44e3-acd7-1a0fd4324207",
   "metadata": {},
   "source": [
    "Since viewer had issues, most of the viewing has been done using plip on the web"
   ]
  },
  {
   "cell_type": "code",
   "execution_count": 8,
   "id": "90d22f8c-b62a-4803-938e-6c528eb35dab",
   "metadata": {},
   "outputs": [
    {
     "data": {
      "application/vnd.jupyter.widget-view+json": {
       "model_id": "d9c506efcc7d48edb7ba6fc6a1d40faa",
       "version_major": 2,
       "version_minor": 0
      },
      "text/plain": [
       "NGLWidget()"
      ]
     },
     "metadata": {},
     "output_type": "display_data"
    }
   ],
   "source": [
    "LIGAND_CODE = \"CLR\" #viewing the co-crystallized ligand using its 3 letter amino acid code (retrieved from RCSB) #Attempted with both CLR and I5D\n",
    "view.center(LIGAND_CODE)\n",
    "view"
   ]
  },
  {
   "cell_type": "code",
   "execution_count": 9,
   "id": "682d23f5-d36a-4347-bb84-e084eaf34225",
   "metadata": {},
   "outputs": [
    {
     "data": {
      "application/vnd.jupyter.widget-view+json": {
       "model_id": "d9c506efcc7d48edb7ba6fc6a1d40faa",
       "version_major": 2,
       "version_minor": 0
      },
      "text/plain": [
       "NGLWidget()"
      ]
     },
     "metadata": {},
     "output_type": "display_data"
    }
   ],
   "source": [
    "viewer.show_residues_around(view, selection=LIGAND_CODE) #viewing the protein residues that are within 5Å from the ligand \n",
    "view"
   ]
  },
  {
   "cell_type": "code",
   "execution_count": 10,
   "id": "0e5895fc-d3f1-4261-8ce2-3b324e53e525",
   "metadata": {},
   "outputs": [
    {
     "name": "stderr",
     "output_type": "stream",
     "text": [
      "WARNING: The default download format has changed from PDB to PDBx/mmCif\n"
     ]
    },
    {
     "name": "stdout",
     "output_type": "stream",
     "text": [
      "Structure exists: '8HDO/8hdo.cif' \n"
     ]
    }
   ],
   "source": [
    "#spliting protein and ligand to add hydrogens atoms to the protein  \n",
    "pdbl = PDBList() #retrieving the coordinates of the protein\n",
    "pdbl.retrieve_pdb_file(TARGET_PDB_ID, pdir=TARGET_PDB_ID)\n",
    "\n",
    "parser = MMCIFParser() #generating a biopython object from the coordinates \n",
    "structure = parser.get_structure(\"TARGETPROT\",'{}/{}.cif'.format(TARGET_PDB_ID,TARGET_PDB_ID.lower()))\n",
    "\n",
    "class ResSelect(Select): #saving the ligand \n",
    "    def accept_residue(self, residue):\n",
    "        if residue.get_resname() == LIGAND_CODE:\n",
    "            return 1\n",
    "        else:\n",
    "            return 0\n",
    "\n",
    "class NonHetSelect(Select):\n",
    "    def accept_residue(self, residue):\n",
    "        return 1 if residue.id[0] == \" \" else 0\n",
    "\n",
    "io = PDBIO()\n",
    "io.set_structure(structure)\n",
    "io.save(\"ligand-{}.pdb\".format(LIGAND_CODE), ResSelect())\n",
    "io.save(\"protein-{}.pdb\".format(TARGET_PDB_ID), NonHetSelect())\n",
    "\n"
   ]
  },
  {
   "cell_type": "code",
   "execution_count": 11,
   "id": "d80f156f-5c14-41bd-b75a-c856945c5ea5",
   "metadata": {},
   "outputs": [
    {
     "data": {
      "text/plain": [
       "0"
      ]
     },
     "execution_count": 11,
     "metadata": {},
     "output_type": "execute_result"
    }
   ],
   "source": [
    "!chmod +x ../lepro #giving access to LePro file (part of the LeDock program used to add hydrogen atoms to the protein residues)  \n",
    "\n",
    "command = '../lepro protein-{}.pdb'.format(TARGET_PDB_ID) #using LePro to add the hydrogens and executing the command\n",
    "os.system(command)\n",
    "#shutil.move('pro.pdb','{}_prepped.pdb'.format(TARGET_PDB_ID))\n",
    "#shutil.move('ligand-{}.pdb'.format(LIGAND_CODE), 'protein-{}.pdb'.format(TARGET_PDB_ID))\n",
    "#retrieving the prepared protein"
   ]
  },
  {
   "cell_type": "code",
   "execution_count": 13,
   "id": "d7217c77-82ef-40b3-881c-a6a23bd7320f",
   "metadata": {},
   "outputs": [
    {
     "ename": "SyntaxError",
     "evalue": "invalid syntax (2428660438.py, line 1)",
     "output_type": "error",
     "traceback": [
      "\u001b[0;36m  Cell \u001b[0;32mIn[13], line 1\u001b[0;36m\u001b[0m\n\u001b[0;31m    module load lepro/2013\u001b[0m\n\u001b[0m           ^\u001b[0m\n\u001b[0;31mSyntaxError\u001b[0m\u001b[0;31m:\u001b[0m invalid syntax\n"
     ]
    }
   ],
   "source": [
    "module load lepro/2013\n"
   ]
  }
 ],
 "metadata": {
  "kernelspec": {
   "display_name": "Python 3 (ipykernel)",
   "language": "python",
   "name": "python3"
  },
  "language_info": {
   "codemirror_mode": {
    "name": "ipython",
    "version": 3
   },
   "file_extension": ".py",
   "mimetype": "text/x-python",
   "name": "python",
   "nbconvert_exporter": "python",
   "pygments_lexer": "ipython3",
   "version": "3.11.9"
  }
 },
 "nbformat": 4,
 "nbformat_minor": 5
}
